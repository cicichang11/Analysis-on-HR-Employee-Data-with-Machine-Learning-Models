{
  "nbformat": 4,
  "nbformat_minor": 0,
  "metadata": {
    "colab": {
      "name": "Final_Chang_Cici.ipynb",
      "provenance": [],
      "collapsed_sections": []
    },
    "kernelspec": {
      "display_name": "Python 3",
      "name": "python3"
    },
    "language_info": {
      "name": "python"
    }
  },
  "cells": [
    {
      "cell_type": "markdown",
      "metadata": {
        "id": "HLZ91mmvMQyl"
      },
      "source": [
        "## **Machine Learning Final Project DUE: Friday May 7th 11:59pm**\n",
        "\n",
        "**Note: Please read all the instructions carefully before starting the project.**\n",
        "\n",
        "For your final project you will build an ML model to analyze a dataset of your choice. You are welcome to keep working on the data in your EDA project if your data is large enough (at least 1000 rows for simple models and at least 10,000 for more complex models) or you can choose from the datasets/project suggestions below.\n",
        "\n",
        "In this project make sure that you:\n",
        "- Have a large enough dataset\n",
        "- Split your data in training and testing\n",
        "- Explore your data to inform which type of model to choose (no need if you are using your EDA dataset)\n",
        "- Try different models on your training dataset - then select the most promising model\n",
        "- Use cross validation to fine tune the model’s parameters such as alpha in lasso\n",
        "- Simplify your model using regularization, prunnning, drop-out, etc. to avoid overfitting\n",
        "- Communicate your model’s performance and make sure you compare it to a benchmark when appropriate\n",
        "- Plot interesting graphs and results\n",
        "- Write and publish your article to medium\n",
        "- Commit your code to your GitHub\n",
        "\n",
        "Please ensure you handle all the preprocessing before the modeling.\n",
        "\n",
        "Suggestions for project:\n",
        "You can take a look at the resources given below for choosing a dataset for your project. \n",
        "\n",
        "- Traffic sign detection - https://benchmark.ini.rub.de/gtsdb_dataset.html\n",
        "- Cat and dog classifier - https://www.kaggle.com/c/dogs-vs-cats/data\n",
        "- Other datasets from Kaggle - https://www.kaggle.com/data/41592"
      ]
    },
    {
      "cell_type": "markdown",
      "metadata": {
        "id": "mirWm3dBPv90"
      },
      "source": [
        "## **Grading Criteria**\n",
        "\n",
        "- Show clear exploration of the data to justify model choice\n",
        "- Train mutliple models and clearly articulate why you chose your final model\n",
        "- Show your performance on test dataset\n",
        "- Clear and concise write-up with clear well-documented figures\n",
        "- Commit your code to GitHub"
      ]
    },
    {
      "cell_type": "markdown",
      "metadata": {
        "id": "4ZRNqxFcP4wx"
      },
      "source": [
        "## **Submission Details**\n",
        "\n",
        "This is an individual assignment. You may not work in groups. The assignment is due on Friday (05/07/2021)\n",
        "- To submit your assignment, download your notebook and the dataset, zip the dataset and notebook, and submit the zipped file on blackboard.\n",
        "- Make sure the notebook is named in the format - Final_LastName_FirstName. If you are submitting a zipped file, please name the file as well in the same format.\n",
        "- Please include the link to access your blog and your github repo in your notebook.\n",
        "- Also include the link to your notebook, github repo and the blog in the submission on blackboard. Please ensure the TAs have the required access to your notebooks and the github repo.\n",
        "\n",
        "**Note - If the dataset is too large to be zipped and submitted on blackboard, only submit your notebook, add your dataset to your google drive and share a link to the file in your notebook.**"
      ]
    },
    {
      "cell_type": "markdown",
      "metadata": {
        "id": "A4Ar5jndKThl"
      },
      "source": [
        "link to the Medium blog: https://cicichan.medium.com/analysis-on-hr-employee-data-with-machine-learning-models-437e833e244c\n",
        "\n",
        "link to Github: https://github.com/cicichang11\n"
      ]
    },
    {
      "cell_type": "code",
      "metadata": {
        "id": "ZzWRBLl6MImY"
      },
      "source": [
        "# Start solution here\n",
        "# import libraries\n",
        "import pandas as pd\n",
        "import numpy as np\n",
        "import seaborn as sns\n",
        "import matplotlib.pyplot as plt\n",
        "from sklearn.model_selection import train_test_split\n",
        "from sklearn.dummy import DummyClassifier\n",
        "from sklearn import tree, metrics\n",
        "from sklearn.tree import DecisionTreeClassifier\n",
        "from sklearn.ensemble import BaggingClassifier, RandomForestClassifier\n",
        "from sklearn.linear_model import LogisticRegression, LassoCV, Lasso\n",
        "from sklearn.model_selection import GridSearchCV, cross_val_score\n",
        "from sklearn.model_selection import RandomizedSearchCV, RepeatedStratifiedKFold\n",
        "from sklearn.metrics import accuracy_score, confusion_matrix, mean_squared_error\n",
        "\n",
        "import warnings\n",
        "warnings.filterwarnings(\"ignore\")\n"
      ],
      "execution_count": 49,
      "outputs": []
    },
    {
      "cell_type": "code",
      "metadata": {
        "colab": {
          "base_uri": "https://localhost:8080/",
          "height": 241
        },
        "id": "PqClapZU9S4Z",
        "outputId": "da7cb312-6ad7-43c6-ef72-bd99c6b90b5b"
      },
      "source": [
        "# importing dataset\n",
        "from google.colab import drive\n",
        "drive.mount('/content/drive')\n",
        "path = \"/content/drive/MyDrive/Colab Notebooks/449 data/HR_Employee_Data.csv\" \n",
        "dfHR = pd.read_csv(path)\n",
        "\n",
        "display(dfHR.head())"
      ],
      "execution_count": 50,
      "outputs": [
        {
          "output_type": "stream",
          "text": [
            "Drive already mounted at /content/drive; to attempt to forcibly remount, call drive.mount(\"/content/drive\", force_remount=True).\n"
          ],
          "name": "stdout"
        },
        {
          "output_type": "display_data",
          "data": {
            "text/html": [
              "<div>\n",
              "<style scoped>\n",
              "    .dataframe tbody tr th:only-of-type {\n",
              "        vertical-align: middle;\n",
              "    }\n",
              "\n",
              "    .dataframe tbody tr th {\n",
              "        vertical-align: top;\n",
              "    }\n",
              "\n",
              "    .dataframe thead th {\n",
              "        text-align: right;\n",
              "    }\n",
              "</style>\n",
              "<table border=\"1\" class=\"dataframe\">\n",
              "  <thead>\n",
              "    <tr style=\"text-align: right;\">\n",
              "      <th></th>\n",
              "      <th>Emp_Id</th>\n",
              "      <th>satisfaction_level</th>\n",
              "      <th>last_evaluation</th>\n",
              "      <th>number_project</th>\n",
              "      <th>average_montly_hours</th>\n",
              "      <th>time_spend_company</th>\n",
              "      <th>Work_accident</th>\n",
              "      <th>left</th>\n",
              "      <th>promotion_last_5years</th>\n",
              "      <th>Department</th>\n",
              "      <th>salary</th>\n",
              "    </tr>\n",
              "  </thead>\n",
              "  <tbody>\n",
              "    <tr>\n",
              "      <th>0</th>\n",
              "      <td>IND02438</td>\n",
              "      <td>38%</td>\n",
              "      <td>53%</td>\n",
              "      <td>2</td>\n",
              "      <td>157</td>\n",
              "      <td>3</td>\n",
              "      <td>0</td>\n",
              "      <td>1</td>\n",
              "      <td>0</td>\n",
              "      <td>sales</td>\n",
              "      <td>low</td>\n",
              "    </tr>\n",
              "    <tr>\n",
              "      <th>1</th>\n",
              "      <td>IND28133</td>\n",
              "      <td>80%</td>\n",
              "      <td>86%</td>\n",
              "      <td>5</td>\n",
              "      <td>262</td>\n",
              "      <td>6</td>\n",
              "      <td>0</td>\n",
              "      <td>1</td>\n",
              "      <td>0</td>\n",
              "      <td>sales</td>\n",
              "      <td>medium</td>\n",
              "    </tr>\n",
              "    <tr>\n",
              "      <th>2</th>\n",
              "      <td>IND07164</td>\n",
              "      <td>11%</td>\n",
              "      <td>88%</td>\n",
              "      <td>7</td>\n",
              "      <td>272</td>\n",
              "      <td>4</td>\n",
              "      <td>0</td>\n",
              "      <td>1</td>\n",
              "      <td>0</td>\n",
              "      <td>sales</td>\n",
              "      <td>medium</td>\n",
              "    </tr>\n",
              "    <tr>\n",
              "      <th>3</th>\n",
              "      <td>IND30478</td>\n",
              "      <td>72%</td>\n",
              "      <td>87%</td>\n",
              "      <td>5</td>\n",
              "      <td>223</td>\n",
              "      <td>5</td>\n",
              "      <td>0</td>\n",
              "      <td>1</td>\n",
              "      <td>0</td>\n",
              "      <td>sales</td>\n",
              "      <td>low</td>\n",
              "    </tr>\n",
              "    <tr>\n",
              "      <th>4</th>\n",
              "      <td>IND24003</td>\n",
              "      <td>37%</td>\n",
              "      <td>52%</td>\n",
              "      <td>2</td>\n",
              "      <td>159</td>\n",
              "      <td>3</td>\n",
              "      <td>0</td>\n",
              "      <td>1</td>\n",
              "      <td>0</td>\n",
              "      <td>sales</td>\n",
              "      <td>low</td>\n",
              "    </tr>\n",
              "  </tbody>\n",
              "</table>\n",
              "</div>"
            ],
            "text/plain": [
              "     Emp_Id satisfaction_level  ... Department  salary\n",
              "0  IND02438                38%  ...      sales     low\n",
              "1  IND28133                80%  ...      sales  medium\n",
              "2  IND07164                11%  ...      sales  medium\n",
              "3  IND30478                72%  ...      sales     low\n",
              "4  IND24003                37%  ...      sales     low\n",
              "\n",
              "[5 rows x 11 columns]"
            ]
          },
          "metadata": {
            "tags": []
          }
        }
      ]
    },
    {
      "cell_type": "markdown",
      "metadata": {
        "id": "i5-Co-rc0pPP"
      },
      "source": [
        "**Cleaing the Dataset & Check the dataset's basic information**"
      ]
    },
    {
      "cell_type": "code",
      "metadata": {
        "colab": {
          "base_uri": "https://localhost:8080/",
          "height": 1000
        },
        "id": "gBEnVhwL032R",
        "outputId": "f52b00f3-7867-48d0-d76c-fee1f2ca66ba"
      },
      "source": [
        "# simplifying dataset: drop-out columns\n",
        "dfHR.drop(['Emp_Id'], axis=1, inplace=True)\n",
        "display(dfHR.head())\n",
        "\n",
        "# basic information\n",
        "print(dfHR.shape)\n",
        "print(dfHR.columns.values)\n",
        "print(dfHR.info())\n",
        "display(dfHR.describe())\n",
        "print(dfHR.isnull().any())"
      ],
      "execution_count": 51,
      "outputs": [
        {
          "output_type": "display_data",
          "data": {
            "text/html": [
              "<div>\n",
              "<style scoped>\n",
              "    .dataframe tbody tr th:only-of-type {\n",
              "        vertical-align: middle;\n",
              "    }\n",
              "\n",
              "    .dataframe tbody tr th {\n",
              "        vertical-align: top;\n",
              "    }\n",
              "\n",
              "    .dataframe thead th {\n",
              "        text-align: right;\n",
              "    }\n",
              "</style>\n",
              "<table border=\"1\" class=\"dataframe\">\n",
              "  <thead>\n",
              "    <tr style=\"text-align: right;\">\n",
              "      <th></th>\n",
              "      <th>satisfaction_level</th>\n",
              "      <th>last_evaluation</th>\n",
              "      <th>number_project</th>\n",
              "      <th>average_montly_hours</th>\n",
              "      <th>time_spend_company</th>\n",
              "      <th>Work_accident</th>\n",
              "      <th>left</th>\n",
              "      <th>promotion_last_5years</th>\n",
              "      <th>Department</th>\n",
              "      <th>salary</th>\n",
              "    </tr>\n",
              "  </thead>\n",
              "  <tbody>\n",
              "    <tr>\n",
              "      <th>0</th>\n",
              "      <td>38%</td>\n",
              "      <td>53%</td>\n",
              "      <td>2</td>\n",
              "      <td>157</td>\n",
              "      <td>3</td>\n",
              "      <td>0</td>\n",
              "      <td>1</td>\n",
              "      <td>0</td>\n",
              "      <td>sales</td>\n",
              "      <td>low</td>\n",
              "    </tr>\n",
              "    <tr>\n",
              "      <th>1</th>\n",
              "      <td>80%</td>\n",
              "      <td>86%</td>\n",
              "      <td>5</td>\n",
              "      <td>262</td>\n",
              "      <td>6</td>\n",
              "      <td>0</td>\n",
              "      <td>1</td>\n",
              "      <td>0</td>\n",
              "      <td>sales</td>\n",
              "      <td>medium</td>\n",
              "    </tr>\n",
              "    <tr>\n",
              "      <th>2</th>\n",
              "      <td>11%</td>\n",
              "      <td>88%</td>\n",
              "      <td>7</td>\n",
              "      <td>272</td>\n",
              "      <td>4</td>\n",
              "      <td>0</td>\n",
              "      <td>1</td>\n",
              "      <td>0</td>\n",
              "      <td>sales</td>\n",
              "      <td>medium</td>\n",
              "    </tr>\n",
              "    <tr>\n",
              "      <th>3</th>\n",
              "      <td>72%</td>\n",
              "      <td>87%</td>\n",
              "      <td>5</td>\n",
              "      <td>223</td>\n",
              "      <td>5</td>\n",
              "      <td>0</td>\n",
              "      <td>1</td>\n",
              "      <td>0</td>\n",
              "      <td>sales</td>\n",
              "      <td>low</td>\n",
              "    </tr>\n",
              "    <tr>\n",
              "      <th>4</th>\n",
              "      <td>37%</td>\n",
              "      <td>52%</td>\n",
              "      <td>2</td>\n",
              "      <td>159</td>\n",
              "      <td>3</td>\n",
              "      <td>0</td>\n",
              "      <td>1</td>\n",
              "      <td>0</td>\n",
              "      <td>sales</td>\n",
              "      <td>low</td>\n",
              "    </tr>\n",
              "  </tbody>\n",
              "</table>\n",
              "</div>"
            ],
            "text/plain": [
              "  satisfaction_level last_evaluation  ...  Department  salary\n",
              "0                38%             53%  ...       sales     low\n",
              "1                80%             86%  ...       sales  medium\n",
              "2                11%             88%  ...       sales  medium\n",
              "3                72%             87%  ...       sales     low\n",
              "4                37%             52%  ...       sales     low\n",
              "\n",
              "[5 rows x 10 columns]"
            ]
          },
          "metadata": {
            "tags": []
          }
        },
        {
          "output_type": "stream",
          "text": [
            "(14999, 10)\n",
            "['satisfaction_level' 'last_evaluation' 'number_project'\n",
            " 'average_montly_hours' 'time_spend_company' 'Work_accident' 'left'\n",
            " 'promotion_last_5years' 'Department' 'salary']\n",
            "<class 'pandas.core.frame.DataFrame'>\n",
            "RangeIndex: 14999 entries, 0 to 14998\n",
            "Data columns (total 10 columns):\n",
            " #   Column                 Non-Null Count  Dtype \n",
            "---  ------                 --------------  ----- \n",
            " 0   satisfaction_level     14999 non-null  object\n",
            " 1   last_evaluation        14999 non-null  object\n",
            " 2   number_project         14999 non-null  int64 \n",
            " 3   average_montly_hours   14999 non-null  int64 \n",
            " 4   time_spend_company     14999 non-null  int64 \n",
            " 5   Work_accident          14999 non-null  int64 \n",
            " 6   left                   14999 non-null  int64 \n",
            " 7   promotion_last_5years  14999 non-null  int64 \n",
            " 8   Department             14999 non-null  object\n",
            " 9   salary                 14999 non-null  object\n",
            "dtypes: int64(6), object(4)\n",
            "memory usage: 1.1+ MB\n",
            "None\n"
          ],
          "name": "stdout"
        },
        {
          "output_type": "display_data",
          "data": {
            "text/html": [
              "<div>\n",
              "<style scoped>\n",
              "    .dataframe tbody tr th:only-of-type {\n",
              "        vertical-align: middle;\n",
              "    }\n",
              "\n",
              "    .dataframe tbody tr th {\n",
              "        vertical-align: top;\n",
              "    }\n",
              "\n",
              "    .dataframe thead th {\n",
              "        text-align: right;\n",
              "    }\n",
              "</style>\n",
              "<table border=\"1\" class=\"dataframe\">\n",
              "  <thead>\n",
              "    <tr style=\"text-align: right;\">\n",
              "      <th></th>\n",
              "      <th>number_project</th>\n",
              "      <th>average_montly_hours</th>\n",
              "      <th>time_spend_company</th>\n",
              "      <th>Work_accident</th>\n",
              "      <th>left</th>\n",
              "      <th>promotion_last_5years</th>\n",
              "    </tr>\n",
              "  </thead>\n",
              "  <tbody>\n",
              "    <tr>\n",
              "      <th>count</th>\n",
              "      <td>14999.000000</td>\n",
              "      <td>14999.000000</td>\n",
              "      <td>14999.000000</td>\n",
              "      <td>14999.000000</td>\n",
              "      <td>14999.000000</td>\n",
              "      <td>14999.000000</td>\n",
              "    </tr>\n",
              "    <tr>\n",
              "      <th>mean</th>\n",
              "      <td>3.803054</td>\n",
              "      <td>201.050337</td>\n",
              "      <td>3.498233</td>\n",
              "      <td>0.144610</td>\n",
              "      <td>0.238083</td>\n",
              "      <td>0.021268</td>\n",
              "    </tr>\n",
              "    <tr>\n",
              "      <th>std</th>\n",
              "      <td>1.232592</td>\n",
              "      <td>49.943099</td>\n",
              "      <td>1.460136</td>\n",
              "      <td>0.351719</td>\n",
              "      <td>0.425924</td>\n",
              "      <td>0.144281</td>\n",
              "    </tr>\n",
              "    <tr>\n",
              "      <th>min</th>\n",
              "      <td>2.000000</td>\n",
              "      <td>96.000000</td>\n",
              "      <td>2.000000</td>\n",
              "      <td>0.000000</td>\n",
              "      <td>0.000000</td>\n",
              "      <td>0.000000</td>\n",
              "    </tr>\n",
              "    <tr>\n",
              "      <th>25%</th>\n",
              "      <td>3.000000</td>\n",
              "      <td>156.000000</td>\n",
              "      <td>3.000000</td>\n",
              "      <td>0.000000</td>\n",
              "      <td>0.000000</td>\n",
              "      <td>0.000000</td>\n",
              "    </tr>\n",
              "    <tr>\n",
              "      <th>50%</th>\n",
              "      <td>4.000000</td>\n",
              "      <td>200.000000</td>\n",
              "      <td>3.000000</td>\n",
              "      <td>0.000000</td>\n",
              "      <td>0.000000</td>\n",
              "      <td>0.000000</td>\n",
              "    </tr>\n",
              "    <tr>\n",
              "      <th>75%</th>\n",
              "      <td>5.000000</td>\n",
              "      <td>245.000000</td>\n",
              "      <td>4.000000</td>\n",
              "      <td>0.000000</td>\n",
              "      <td>0.000000</td>\n",
              "      <td>0.000000</td>\n",
              "    </tr>\n",
              "    <tr>\n",
              "      <th>max</th>\n",
              "      <td>7.000000</td>\n",
              "      <td>310.000000</td>\n",
              "      <td>10.000000</td>\n",
              "      <td>1.000000</td>\n",
              "      <td>1.000000</td>\n",
              "      <td>1.000000</td>\n",
              "    </tr>\n",
              "  </tbody>\n",
              "</table>\n",
              "</div>"
            ],
            "text/plain": [
              "       number_project  ...  promotion_last_5years\n",
              "count    14999.000000  ...           14999.000000\n",
              "mean         3.803054  ...               0.021268\n",
              "std          1.232592  ...               0.144281\n",
              "min          2.000000  ...               0.000000\n",
              "25%          3.000000  ...               0.000000\n",
              "50%          4.000000  ...               0.000000\n",
              "75%          5.000000  ...               0.000000\n",
              "max          7.000000  ...               1.000000\n",
              "\n",
              "[8 rows x 6 columns]"
            ]
          },
          "metadata": {
            "tags": []
          }
        },
        {
          "output_type": "stream",
          "text": [
            "satisfaction_level       False\n",
            "last_evaluation          False\n",
            "number_project           False\n",
            "average_montly_hours     False\n",
            "time_spend_company       False\n",
            "Work_accident            False\n",
            "left                     False\n",
            "promotion_last_5years    False\n",
            "Department               False\n",
            "salary                   False\n",
            "dtype: bool\n"
          ],
          "name": "stdout"
        }
      ]
    },
    {
      "cell_type": "markdown",
      "metadata": {
        "id": "yhr5S4qkq841"
      },
      "source": [
        "# **Exploratory Data Analysis (EDA)**"
      ]
    },
    {
      "cell_type": "code",
      "metadata": {
        "colab": {
          "base_uri": "https://localhost:8080/",
          "height": 222
        },
        "id": "nhCGU55EEJAe",
        "outputId": "4a56af77-f919-45bf-e272-16d27453d5b9"
      },
      "source": [
        "# basic descriptive analysis\n",
        "# attrition rate\n",
        "attrition_rate = dfHR.left.value_counts() / len(dfHR)\n",
        "print(attrition_rate)\n",
        "\n",
        "# count the number of employees who left and\n",
        "# the mumber of emplyees who stay \n",
        "sns.countplot(x='left', data=dfHR)\n",
        "plt.rcParams['figure.figsize'] = [2, 2]\n",
        "plt.show()"
      ],
      "execution_count": 5,
      "outputs": [
        {
          "output_type": "stream",
          "text": [
            "0    0.761917\n",
            "1    0.238083\n",
            "Name: left, dtype: float64\n"
          ],
          "name": "stdout"
        },
        {
          "output_type": "display_data",
          "data": {
            "image/png": "[encoded data removed]",
            "text/plain": [
              "<Figure size 144x144 with 1 Axes>"
            ]
          },
          "metadata": {
            "tags": [],
            "needs_background": "light"
          }
        }
      ]
    },
    {
      "cell_type": "markdown",
      "metadata": {
        "id": "MYvtgZ9PKh2H"
      },
      "source": [
        "Based on the previous calculation, the attrition rate is 76.19%"
      ]
    },
    {
      "cell_type": "markdown",
      "metadata": {
        "id": "5cPS5UgZYV8Q"
      },
      "source": [
        "Visualization of some variables"
      ]
    },
    {
      "cell_type": "code",
      "metadata": {
        "colab": {
          "base_uri": "https://localhost:8080/",
          "height": 1000
        },
        "id": "NQd2EFecXmaM",
        "outputId": "c9be4edb-b7bf-4fb8-dab8-dfd65f4d35c6"
      },
      "source": [
        "# visualisation of some features\n",
        "plt.figure(1)\n",
        "sns.countplot(x='time_spend_company', data=dfHR)\n",
        "\n",
        "plt.figure(2)\n",
        "sns.boxplot(x='time_spend_company',data=dfHR)\n",
        "\n",
        "plt.figure(3)\n",
        "sns.countplot(x='salary', data=dfHR)\n",
        "\n",
        "plt.figure(4)\n",
        "sns.countplot(x='number_project', data=dfHR)\n",
        "\n",
        "plt.figure(5)\n",
        "sns.countplot(x='promotion_last_5years', data=dfHR)\n",
        "\n",
        "plt.rcParams['figure.figsize'] = [3,3]\n",
        "plt.show()"
      ],
      "execution_count": 7,
      "outputs": [
        {
          "output_type": "display_data",
          "data": {
            "image/png": "[encoded data removed]",
            "text/plain": [
              "<Figure size 216x216 with 1 Axes>"
            ]
          },
          "metadata": {
            "tags": [],
            "needs_background": "light"
          }
        },
        {
          "output_type": "display_data",
          "data": {
            "image/png": "[encoded data removed]",
            "text/plain": [
              "<Figure size 216x216 with 1 Axes>"
            ]
          },
          "metadata": {
            "tags": [],
            "needs_background": "light"
          }
        },
        {
          "output_type": "display_data",
          "data": {
            "image/png": "[encoded data removed]",
            "text/plain": [
              "<Figure size 216x216 with 1 Axes>"
            ]
          },
          "metadata": {
            "tags": [],
            "needs_background": "light"
          }
        },
        {
          "output_type": "display_data",
          "data": {
            "image/png": "[encoded data removed]",
            "text/plain": [
              "<Figure size 216x216 with 1 Axes>"
            ]
          },
          "metadata": {
            "tags": [],
            "needs_background": "light"
          }
        },
        {
          "output_type": "display_data",
          "data": {
            "image/png": "[encoded data removed]",
            "text/plain": [
              "<Figure size 216x216 with 1 Axes>"
            ]
          },
          "metadata": {
            "tags": [],
            "needs_background": "light"
          }
        }
      ]
    },
    {
      "cell_type": "markdown",
      "metadata": {
        "id": "RsSfLW4wRxVs"
      },
      "source": [
        "Analysis on the relationship between features and the attrition rate"
      ]
    },
    {
      "cell_type": "code",
      "metadata": {
        "colab": {
          "base_uri": "https://localhost:8080/",
          "height": 596
        },
        "id": "jr0AX0f2UAti",
        "outputId": "471f4d12-0a24-405b-b934-6600cebfe87f"
      },
      "source": [
        "# time_spend_company and attrition rate\n",
        "plt.figure(figsize=(7,7))\n",
        "ax = sns.countplot(x='time_spend_company',data=dfHR,hue='left')\n",
        "# '1' stands for \"left\", '0' stands for \"stay\"\n",
        "bars = ax.patches\n",
        "half = int(len(bars)/2)\n",
        "left_bars = bars[:half]\n",
        "right_bars = bars[half:]\n",
        "\n",
        "for left, right in zip(left_bars, right_bars):\n",
        "    height_l = left.get_height()\n",
        "    height_r = right.get_height()\n",
        "    total = height_l + height_r\n",
        "\n",
        "    ax.text(left.get_x() + left.get_width()/2., height_l + 40, '{0:.0%}'.format(height_l/total), ha=\"center\")\n",
        "    ax.text(right.get_x() + right.get_width()/2., height_r + 40, '{0:.0%}'.format(height_r/total), ha=\"center\")"
      ],
      "execution_count": 12,
      "outputs": [
        {
          "output_type": "stream",
          "text": [
            "posx and posy should be finite values\n",
            "posx and posy should be finite values\n",
            "posx and posy should be finite values\n",
            "posx and posy should be finite values\n",
            "posx and posy should be finite values\n",
            "posx and posy should be finite values\n",
            "posx and posy should be finite values\n",
            "posx and posy should be finite values\n",
            "posx and posy should be finite values\n"
          ],
          "name": "stderr"
        },
        {
          "output_type": "display_data",
          "data": {
            "image/png": "[encoded data removed]",
            "text/plain": [
              "<Figure size 504x504 with 1 Axes>"
            ]
          },
          "metadata": {
            "tags": [],
            "needs_background": "light"
          }
        }
      ]
    },
    {
      "cell_type": "code",
      "metadata": {
        "colab": {
          "base_uri": "https://localhost:8080/",
          "height": 334
        },
        "id": "Ri5gwp16N1JL",
        "outputId": "a0640edf-ea45-4fbd-9c05-656c9bcb1777"
      },
      "source": [
        "# salary and attrition rate\n",
        "plt.figure(figsize=(5,5))\n",
        "ax = sns.countplot(x='salary',data=dfHR,hue='left')\n",
        "# '1' stands for \"left\", '0' stands for \"stay\"\n",
        "bars = ax.patches\n",
        "half = int(len(bars)/2)\n",
        "left_bars = bars[:half]\n",
        "right_bars = bars[half:]\n",
        "\n",
        "for left, right in zip(left_bars, right_bars):\n",
        "    height_l = left.get_height()\n",
        "    height_r = right.get_height()\n",
        "    total = height_l + height_r\n",
        "\n",
        "    ax.text(left.get_x() + left.get_width()/2., height_l + 40, '{0:.0%}'.format(height_l/total), ha=\"center\")\n",
        "    ax.text(right.get_x() + right.get_width()/2., height_r + 40, '{0:.0%}'.format(height_r/total), ha=\"center\")"
      ],
      "execution_count": 9,
      "outputs": [
        {
          "output_type": "display_data",
          "data": {
            "image/png": "[encoded data removed]",
            "text/plain": [
              "<Figure size 360x360 with 1 Axes>"
            ]
          },
          "metadata": {
            "tags": [],
            "needs_background": "light"
          }
        }
      ]
    },
    {
      "cell_type": "code",
      "metadata": {
        "colab": {
          "base_uri": "https://localhost:8080/",
          "height": 440
        },
        "id": "ECejcWX8QL3h",
        "outputId": "9919d926-6677-4c32-fce2-a50b39ea9365"
      },
      "source": [
        "# number_project and attrition rate\n",
        "plt.figure(figsize=(6,6))\n",
        "ax = sns.countplot(x='number_project', data=dfHR, hue='left')\n",
        "# '1' stands for \"left\", '0' stands for \"stay\"\n",
        "bars = ax.patches\n",
        "half = int(len(bars)/2)\n",
        "left_bars = bars[:half]\n",
        "right_bars = bars[half:]\n",
        "\n",
        "for left, right in zip(left_bars, right_bars):\n",
        "    height_l = left.get_height()\n",
        "    height_r = right.get_height()\n",
        "    total = height_l + height_r\n",
        "\n",
        "    ax.text(left.get_x() + left.get_width()/2., height_l + 40, '{0:.0%}'.format(height_l/total), ha=\"center\")\n",
        "    ax.text(right.get_x() + right.get_width()/2., height_r + 40, '{0:.0%}'.format(height_r/total), ha=\"center\")"
      ],
      "execution_count": 10,
      "outputs": [
        {
          "output_type": "stream",
          "text": [
            "posx and posy should be finite values\n",
            "posx and posy should be finite values\n",
            "posx and posy should be finite values\n"
          ],
          "name": "stderr"
        },
        {
          "output_type": "display_data",
          "data": {
            "image/png": "[encoded data removed]",
            "text/plain": [
              "<Figure size 432x432 with 1 Axes>"
            ]
          },
          "metadata": {
            "tags": [],
            "needs_background": "light"
          }
        }
      ]
    },
    {
      "cell_type": "code",
      "metadata": {
        "colab": {
          "base_uri": "https://localhost:8080/",
          "height": 389
        },
        "id": "BnzPPn0EQ5Vw",
        "outputId": "87957d9e-213b-4ab0-ad67-2cab8b4c46b5"
      },
      "source": [
        "# promotion_last_5years and attrition rate\n",
        "plt.figure(figsize=(6,6))\n",
        "ax = sns.countplot(x='promotion_last_5years',data=dfHR,hue='left')\n",
        "# '1' stands for \"left\", '0' stands for \"stay\"\n",
        "bars = ax.patches\n",
        "half = int(len(bars)/2)\n",
        "left_bars = bars[:half]\n",
        "right_bars = bars[half:]\n",
        "\n",
        "for left, right in zip(left_bars, right_bars):\n",
        "    height_l = left.get_height()\n",
        "    height_r = right.get_height()\n",
        "    total = height_l + height_r\n",
        "\n",
        "    ax.text(left.get_x() + left.get_width()/2., height_l + 40, '{0:.0%}'.format(height_l/total), ha=\"center\")\n",
        "    ax.text(right.get_x() + right.get_width()/2., height_r + 40, '{0:.0%}'.format(height_r/total), ha=\"center\")"
      ],
      "execution_count": 11,
      "outputs": [
        {
          "output_type": "display_data",
          "data": {
            "image/png": "[encoded data removed]",
            "text/plain": [
              "<Figure size 432x432 with 1 Axes>"
            ]
          },
          "metadata": {
            "tags": [],
            "needs_background": "light"
          }
        }
      ]
    },
    {
      "cell_type": "code",
      "metadata": {
        "id": "RhRzMmusSF9B"
      },
      "source": [
        "# For the features that are hard to be visualized, calculate the mean value for those who left\n",
        "# first convert the percentages to floats\n",
        "left_df = dfHR.loc[dfHR['left'] == 1]\n",
        "left_df['satisfaction_level'] = (pd.to_numeric(left_df['satisfaction_level'].str[:-1])\n",
        "                            .div(100)\n",
        "                            .mask(left_df['satisfaction_level'] == '%', 0))\n",
        "left_df['last_evaluation'] = (pd.to_numeric(left_df['last_evaluation'].str[:-1])\n",
        "                            .div(100)\n",
        "                            .mask(left_df['last_evaluation'] == '%', 0))"
      ],
      "execution_count": 52,
      "outputs": []
    },
    {
      "cell_type": "code",
      "metadata": {
        "colab": {
          "base_uri": "https://localhost:8080/"
        },
        "id": "HxyigzYzayz_",
        "outputId": "c36417f2-1098-4231-fd45-c24981913c75"
      },
      "source": [
        "# the mean values of features for those who have left\n",
        "satisfaction_mean = left_df['satisfaction_level'].mean()\n",
        "evaluation_mean = left_df['last_evaluation'].mean()\n",
        "hours_mean = left_df['average_montly_hours'].mean()\n",
        "accident_mean = left_df['Work_accident'].mean()\n",
        "print(\"The average satisfaction level:\", satisfaction_mean)\n",
        "print(\"The average last evaluation:\", evaluation_mean)\n",
        "print(\"The average monthly hours:\", hours_mean)\n",
        "print(\"The average number of work accidents:\", accident_mean)"
      ],
      "execution_count": 53,
      "outputs": [
        {
          "output_type": "stream",
          "text": [
            "The average satisfaction level: 0.44009801176140917\n",
            "The average last evaluation: 0.7181125735088183\n",
            "The average monthly hours: 207.41921030523662\n",
            "The average number of work accidents: 0.047325679081489776\n"
          ],
          "name": "stdout"
        }
      ]
    },
    {
      "cell_type": "code",
      "metadata": {
        "colab": {
          "base_uri": "https://localhost:8080/",
          "height": 444
        },
        "id": "rNv_8mufdQON",
        "outputId": "3e0f3dbd-7713-4a03-cc19-64e325b78319"
      },
      "source": [
        "# check the correlation \n",
        "plt.figure(figsize=(7,5))\n",
        "sns.heatmap(dfHR.corr(), annot = True, cmap=\"Accent\")"
      ],
      "execution_count": 15,
      "outputs": [
        {
          "output_type": "execute_result",
          "data": {
            "text/plain": [
              "<matplotlib.axes._subplots.AxesSubplot at 0x7f1f8e00df10>"
            ]
          },
          "metadata": {
            "tags": []
          },
          "execution_count": 15
        },
        {
          "output_type": "display_data",
          "data": {
            "image/png": "[encoded data removed]",
            "text/plain": [
              "<Figure size 504x360 with 2 Axes>"
            ]
          },
          "metadata": {
            "tags": [],
            "needs_background": "light"
          }
        }
      ]
    },
    {
      "cell_type": "markdown",
      "metadata": {
        "id": "FFFuAAGXLHzP"
      },
      "source": [
        "My target variable is a categorical variable, and the purpose of building the model is to find the effects of other features on the target variable. In other words, the purpose of using the model is to predict how the features will affect the attrition rate of the company. "
      ]
    },
    {
      "cell_type": "markdown",
      "metadata": {
        "id": "ATbY9bUyU-VE"
      },
      "source": [
        "# **Dummies & Train-Test-Split**"
      ]
    },
    {
      "cell_type": "code",
      "metadata": {
        "colab": {
          "base_uri": "https://localhost:8080/"
        },
        "id": "QrDGJ-PoUCfL",
        "outputId": "937e3bed-d13d-405b-fa59-322eb1f51349"
      },
      "source": [
        "# reorder the columns to make the train-test splitting easier\n",
        "colnames = ['left','satisfaction_level','last_evaluation','number_project',\n",
        "            'average_montly_hours','time_spend_company','Work_accident',\n",
        "            'promotion_last_5years','Department','salary']\n",
        "dfHR = dfHR.reindex(columns=colnames)\n",
        "\n",
        "# separate target variable from features\n",
        "# the tareget varaible is the \"left\" column, which indicates whether the employees left the company or not. \n",
        "# features \n",
        "x = dfHR.iloc[:, 1:]\n",
        "# target variable\n",
        "y = dfHR.iloc[:, 0]\n",
        "print(x.shape)\n",
        "print(y.shape)"
      ],
      "execution_count": 16,
      "outputs": [
        {
          "output_type": "stream",
          "text": [
            "(14999, 9)\n",
            "(14999,)\n"
          ],
          "name": "stdout"
        }
      ]
    },
    {
      "cell_type": "code",
      "metadata": {
        "colab": {
          "base_uri": "https://localhost:8080/",
          "height": 321
        },
        "id": "RT3imf1IUHgf",
        "outputId": "acda9549-248e-4ed9-e881-9769a1939f7d"
      },
      "source": [
        "# convert all categorical variables into dummy variables\n",
        "X = pd.get_dummies(x, columns = x.columns)\n",
        "display(X.head())\n",
        "\n",
        "# Partition the data into training and test sets (70/30) \n",
        "X_train, X_test, y_train, y_test = train_test_split(X, y, test_size=0.3, random_state=42, stratify=y)\n",
        "print(X_train.shape)\n",
        "print(y_train.shape)\n",
        "print(X_test.shape)\n",
        "print(y_test.shape)"
      ],
      "execution_count": 17,
      "outputs": [
        {
          "output_type": "display_data",
          "data": {
            "text/html": [
              "<div>\n",
              "<style scoped>\n",
              "    .dataframe tbody tr th:only-of-type {\n",
              "        vertical-align: middle;\n",
              "    }\n",
              "\n",
              "    .dataframe tbody tr th {\n",
              "        vertical-align: top;\n",
              "    }\n",
              "\n",
              "    .dataframe thead th {\n",
              "        text-align: right;\n",
              "    }\n",
              "</style>\n",
              "<table border=\"1\" class=\"dataframe\">\n",
              "  <thead>\n",
              "    <tr style=\"text-align: right;\">\n",
              "      <th></th>\n",
              "      <th>satisfaction_level_10%</th>\n",
              "      <th>satisfaction_level_100%</th>\n",
              "      <th>satisfaction_level_11%</th>\n",
              "      <th>satisfaction_level_12%</th>\n",
              "      <th>satisfaction_level_13%</th>\n",
              "      <th>satisfaction_level_14%</th>\n",
              "      <th>satisfaction_level_15%</th>\n",
              "      <th>satisfaction_level_16%</th>\n",
              "      <th>satisfaction_level_17%</th>\n",
              "      <th>satisfaction_level_18%</th>\n",
              "      <th>satisfaction_level_19%</th>\n",
              "      <th>satisfaction_level_20%</th>\n",
              "      <th>satisfaction_level_21%</th>\n",
              "      <th>satisfaction_level_22%</th>\n",
              "      <th>satisfaction_level_23%</th>\n",
              "      <th>satisfaction_level_24%</th>\n",
              "      <th>satisfaction_level_25%</th>\n",
              "      <th>satisfaction_level_26%</th>\n",
              "      <th>satisfaction_level_27%</th>\n",
              "      <th>satisfaction_level_28%</th>\n",
              "      <th>satisfaction_level_29%</th>\n",
              "      <th>satisfaction_level_30%</th>\n",
              "      <th>satisfaction_level_31%</th>\n",
              "      <th>satisfaction_level_32%</th>\n",
              "      <th>satisfaction_level_33%</th>\n",
              "      <th>satisfaction_level_34%</th>\n",
              "      <th>satisfaction_level_35%</th>\n",
              "      <th>satisfaction_level_36%</th>\n",
              "      <th>satisfaction_level_37%</th>\n",
              "      <th>satisfaction_level_38%</th>\n",
              "      <th>satisfaction_level_39%</th>\n",
              "      <th>satisfaction_level_40%</th>\n",
              "      <th>satisfaction_level_41%</th>\n",
              "      <th>satisfaction_level_42%</th>\n",
              "      <th>satisfaction_level_43%</th>\n",
              "      <th>satisfaction_level_44%</th>\n",
              "      <th>satisfaction_level_45%</th>\n",
              "      <th>satisfaction_level_46%</th>\n",
              "      <th>satisfaction_level_47%</th>\n",
              "      <th>satisfaction_level_48%</th>\n",
              "      <th>...</th>\n",
              "      <th>average_montly_hours_296</th>\n",
              "      <th>average_montly_hours_297</th>\n",
              "      <th>average_montly_hours_298</th>\n",
              "      <th>average_montly_hours_299</th>\n",
              "      <th>average_montly_hours_300</th>\n",
              "      <th>average_montly_hours_301</th>\n",
              "      <th>average_montly_hours_302</th>\n",
              "      <th>average_montly_hours_303</th>\n",
              "      <th>average_montly_hours_304</th>\n",
              "      <th>average_montly_hours_305</th>\n",
              "      <th>average_montly_hours_306</th>\n",
              "      <th>average_montly_hours_307</th>\n",
              "      <th>average_montly_hours_308</th>\n",
              "      <th>average_montly_hours_309</th>\n",
              "      <th>average_montly_hours_310</th>\n",
              "      <th>time_spend_company_2</th>\n",
              "      <th>time_spend_company_3</th>\n",
              "      <th>time_spend_company_4</th>\n",
              "      <th>time_spend_company_5</th>\n",
              "      <th>time_spend_company_6</th>\n",
              "      <th>time_spend_company_7</th>\n",
              "      <th>time_spend_company_8</th>\n",
              "      <th>time_spend_company_10</th>\n",
              "      <th>Work_accident_0</th>\n",
              "      <th>Work_accident_1</th>\n",
              "      <th>promotion_last_5years_0</th>\n",
              "      <th>promotion_last_5years_1</th>\n",
              "      <th>Department_IT</th>\n",
              "      <th>Department_RandD</th>\n",
              "      <th>Department_accounting</th>\n",
              "      <th>Department_hr</th>\n",
              "      <th>Department_management</th>\n",
              "      <th>Department_marketing</th>\n",
              "      <th>Department_product_mng</th>\n",
              "      <th>Department_sales</th>\n",
              "      <th>Department_support</th>\n",
              "      <th>Department_technical</th>\n",
              "      <th>salary_high</th>\n",
              "      <th>salary_low</th>\n",
              "      <th>salary_medium</th>\n",
              "    </tr>\n",
              "  </thead>\n",
              "  <tbody>\n",
              "    <tr>\n",
              "      <th>0</th>\n",
              "      <td>0</td>\n",
              "      <td>0</td>\n",
              "      <td>0</td>\n",
              "      <td>0</td>\n",
              "      <td>0</td>\n",
              "      <td>0</td>\n",
              "      <td>0</td>\n",
              "      <td>0</td>\n",
              "      <td>0</td>\n",
              "      <td>0</td>\n",
              "      <td>0</td>\n",
              "      <td>0</td>\n",
              "      <td>0</td>\n",
              "      <td>0</td>\n",
              "      <td>0</td>\n",
              "      <td>0</td>\n",
              "      <td>0</td>\n",
              "      <td>0</td>\n",
              "      <td>0</td>\n",
              "      <td>0</td>\n",
              "      <td>0</td>\n",
              "      <td>0</td>\n",
              "      <td>0</td>\n",
              "      <td>0</td>\n",
              "      <td>0</td>\n",
              "      <td>0</td>\n",
              "      <td>0</td>\n",
              "      <td>0</td>\n",
              "      <td>0</td>\n",
              "      <td>1</td>\n",
              "      <td>0</td>\n",
              "      <td>0</td>\n",
              "      <td>0</td>\n",
              "      <td>0</td>\n",
              "      <td>0</td>\n",
              "      <td>0</td>\n",
              "      <td>0</td>\n",
              "      <td>0</td>\n",
              "      <td>0</td>\n",
              "      <td>0</td>\n",
              "      <td>...</td>\n",
              "      <td>0</td>\n",
              "      <td>0</td>\n",
              "      <td>0</td>\n",
              "      <td>0</td>\n",
              "      <td>0</td>\n",
              "      <td>0</td>\n",
              "      <td>0</td>\n",
              "      <td>0</td>\n",
              "      <td>0</td>\n",
              "      <td>0</td>\n",
              "      <td>0</td>\n",
              "      <td>0</td>\n",
              "      <td>0</td>\n",
              "      <td>0</td>\n",
              "      <td>0</td>\n",
              "      <td>0</td>\n",
              "      <td>1</td>\n",
              "      <td>0</td>\n",
              "      <td>0</td>\n",
              "      <td>0</td>\n",
              "      <td>0</td>\n",
              "      <td>0</td>\n",
              "      <td>0</td>\n",
              "      <td>1</td>\n",
              "      <td>0</td>\n",
              "      <td>1</td>\n",
              "      <td>0</td>\n",
              "      <td>0</td>\n",
              "      <td>0</td>\n",
              "      <td>0</td>\n",
              "      <td>0</td>\n",
              "      <td>0</td>\n",
              "      <td>0</td>\n",
              "      <td>0</td>\n",
              "      <td>1</td>\n",
              "      <td>0</td>\n",
              "      <td>0</td>\n",
              "      <td>0</td>\n",
              "      <td>1</td>\n",
              "      <td>0</td>\n",
              "    </tr>\n",
              "    <tr>\n",
              "      <th>1</th>\n",
              "      <td>0</td>\n",
              "      <td>0</td>\n",
              "      <td>0</td>\n",
              "      <td>0</td>\n",
              "      <td>0</td>\n",
              "      <td>0</td>\n",
              "      <td>0</td>\n",
              "      <td>0</td>\n",
              "      <td>0</td>\n",
              "      <td>0</td>\n",
              "      <td>0</td>\n",
              "      <td>0</td>\n",
              "      <td>0</td>\n",
              "      <td>0</td>\n",
              "      <td>0</td>\n",
              "      <td>0</td>\n",
              "      <td>0</td>\n",
              "      <td>0</td>\n",
              "      <td>0</td>\n",
              "      <td>0</td>\n",
              "      <td>0</td>\n",
              "      <td>0</td>\n",
              "      <td>0</td>\n",
              "      <td>0</td>\n",
              "      <td>0</td>\n",
              "      <td>0</td>\n",
              "      <td>0</td>\n",
              "      <td>0</td>\n",
              "      <td>0</td>\n",
              "      <td>0</td>\n",
              "      <td>0</td>\n",
              "      <td>0</td>\n",
              "      <td>0</td>\n",
              "      <td>0</td>\n",
              "      <td>0</td>\n",
              "      <td>0</td>\n",
              "      <td>0</td>\n",
              "      <td>0</td>\n",
              "      <td>0</td>\n",
              "      <td>0</td>\n",
              "      <td>...</td>\n",
              "      <td>0</td>\n",
              "      <td>0</td>\n",
              "      <td>0</td>\n",
              "      <td>0</td>\n",
              "      <td>0</td>\n",
              "      <td>0</td>\n",
              "      <td>0</td>\n",
              "      <td>0</td>\n",
              "      <td>0</td>\n",
              "      <td>0</td>\n",
              "      <td>0</td>\n",
              "      <td>0</td>\n",
              "      <td>0</td>\n",
              "      <td>0</td>\n",
              "      <td>0</td>\n",
              "      <td>0</td>\n",
              "      <td>0</td>\n",
              "      <td>0</td>\n",
              "      <td>0</td>\n",
              "      <td>1</td>\n",
              "      <td>0</td>\n",
              "      <td>0</td>\n",
              "      <td>0</td>\n",
              "      <td>1</td>\n",
              "      <td>0</td>\n",
              "      <td>1</td>\n",
              "      <td>0</td>\n",
              "      <td>0</td>\n",
              "      <td>0</td>\n",
              "      <td>0</td>\n",
              "      <td>0</td>\n",
              "      <td>0</td>\n",
              "      <td>0</td>\n",
              "      <td>0</td>\n",
              "      <td>1</td>\n",
              "      <td>0</td>\n",
              "      <td>0</td>\n",
              "      <td>0</td>\n",
              "      <td>0</td>\n",
              "      <td>1</td>\n",
              "    </tr>\n",
              "    <tr>\n",
              "      <th>2</th>\n",
              "      <td>0</td>\n",
              "      <td>0</td>\n",
              "      <td>1</td>\n",
              "      <td>0</td>\n",
              "      <td>0</td>\n",
              "      <td>0</td>\n",
              "      <td>0</td>\n",
              "      <td>0</td>\n",
              "      <td>0</td>\n",
              "      <td>0</td>\n",
              "      <td>0</td>\n",
              "      <td>0</td>\n",
              "      <td>0</td>\n",
              "      <td>0</td>\n",
              "      <td>0</td>\n",
              "      <td>0</td>\n",
              "      <td>0</td>\n",
              "      <td>0</td>\n",
              "      <td>0</td>\n",
              "      <td>0</td>\n",
              "      <td>0</td>\n",
              "      <td>0</td>\n",
              "      <td>0</td>\n",
              "      <td>0</td>\n",
              "      <td>0</td>\n",
              "      <td>0</td>\n",
              "      <td>0</td>\n",
              "      <td>0</td>\n",
              "      <td>0</td>\n",
              "      <td>0</td>\n",
              "      <td>0</td>\n",
              "      <td>0</td>\n",
              "      <td>0</td>\n",
              "      <td>0</td>\n",
              "      <td>0</td>\n",
              "      <td>0</td>\n",
              "      <td>0</td>\n",
              "      <td>0</td>\n",
              "      <td>0</td>\n",
              "      <td>0</td>\n",
              "      <td>...</td>\n",
              "      <td>0</td>\n",
              "      <td>0</td>\n",
              "      <td>0</td>\n",
              "      <td>0</td>\n",
              "      <td>0</td>\n",
              "      <td>0</td>\n",
              "      <td>0</td>\n",
              "      <td>0</td>\n",
              "      <td>0</td>\n",
              "      <td>0</td>\n",
              "      <td>0</td>\n",
              "      <td>0</td>\n",
              "      <td>0</td>\n",
              "      <td>0</td>\n",
              "      <td>0</td>\n",
              "      <td>0</td>\n",
              "      <td>0</td>\n",
              "      <td>1</td>\n",
              "      <td>0</td>\n",
              "      <td>0</td>\n",
              "      <td>0</td>\n",
              "      <td>0</td>\n",
              "      <td>0</td>\n",
              "      <td>1</td>\n",
              "      <td>0</td>\n",
              "      <td>1</td>\n",
              "      <td>0</td>\n",
              "      <td>0</td>\n",
              "      <td>0</td>\n",
              "      <td>0</td>\n",
              "      <td>0</td>\n",
              "      <td>0</td>\n",
              "      <td>0</td>\n",
              "      <td>0</td>\n",
              "      <td>1</td>\n",
              "      <td>0</td>\n",
              "      <td>0</td>\n",
              "      <td>0</td>\n",
              "      <td>0</td>\n",
              "      <td>1</td>\n",
              "    </tr>\n",
              "    <tr>\n",
              "      <th>3</th>\n",
              "      <td>0</td>\n",
              "      <td>0</td>\n",
              "      <td>0</td>\n",
              "      <td>0</td>\n",
              "      <td>0</td>\n",
              "      <td>0</td>\n",
              "      <td>0</td>\n",
              "      <td>0</td>\n",
              "      <td>0</td>\n",
              "      <td>0</td>\n",
              "      <td>0</td>\n",
              "      <td>0</td>\n",
              "      <td>0</td>\n",
              "      <td>0</td>\n",
              "      <td>0</td>\n",
              "      <td>0</td>\n",
              "      <td>0</td>\n",
              "      <td>0</td>\n",
              "      <td>0</td>\n",
              "      <td>0</td>\n",
              "      <td>0</td>\n",
              "      <td>0</td>\n",
              "      <td>0</td>\n",
              "      <td>0</td>\n",
              "      <td>0</td>\n",
              "      <td>0</td>\n",
              "      <td>0</td>\n",
              "      <td>0</td>\n",
              "      <td>0</td>\n",
              "      <td>0</td>\n",
              "      <td>0</td>\n",
              "      <td>0</td>\n",
              "      <td>0</td>\n",
              "      <td>0</td>\n",
              "      <td>0</td>\n",
              "      <td>0</td>\n",
              "      <td>0</td>\n",
              "      <td>0</td>\n",
              "      <td>0</td>\n",
              "      <td>0</td>\n",
              "      <td>...</td>\n",
              "      <td>0</td>\n",
              "      <td>0</td>\n",
              "      <td>0</td>\n",
              "      <td>0</td>\n",
              "      <td>0</td>\n",
              "      <td>0</td>\n",
              "      <td>0</td>\n",
              "      <td>0</td>\n",
              "      <td>0</td>\n",
              "      <td>0</td>\n",
              "      <td>0</td>\n",
              "      <td>0</td>\n",
              "      <td>0</td>\n",
              "      <td>0</td>\n",
              "      <td>0</td>\n",
              "      <td>0</td>\n",
              "      <td>0</td>\n",
              "      <td>0</td>\n",
              "      <td>1</td>\n",
              "      <td>0</td>\n",
              "      <td>0</td>\n",
              "      <td>0</td>\n",
              "      <td>0</td>\n",
              "      <td>1</td>\n",
              "      <td>0</td>\n",
              "      <td>1</td>\n",
              "      <td>0</td>\n",
              "      <td>0</td>\n",
              "      <td>0</td>\n",
              "      <td>0</td>\n",
              "      <td>0</td>\n",
              "      <td>0</td>\n",
              "      <td>0</td>\n",
              "      <td>0</td>\n",
              "      <td>1</td>\n",
              "      <td>0</td>\n",
              "      <td>0</td>\n",
              "      <td>0</td>\n",
              "      <td>1</td>\n",
              "      <td>0</td>\n",
              "    </tr>\n",
              "    <tr>\n",
              "      <th>4</th>\n",
              "      <td>0</td>\n",
              "      <td>0</td>\n",
              "      <td>0</td>\n",
              "      <td>0</td>\n",
              "      <td>0</td>\n",
              "      <td>0</td>\n",
              "      <td>0</td>\n",
              "      <td>0</td>\n",
              "      <td>0</td>\n",
              "      <td>0</td>\n",
              "      <td>0</td>\n",
              "      <td>0</td>\n",
              "      <td>0</td>\n",
              "      <td>0</td>\n",
              "      <td>0</td>\n",
              "      <td>0</td>\n",
              "      <td>0</td>\n",
              "      <td>0</td>\n",
              "      <td>0</td>\n",
              "      <td>0</td>\n",
              "      <td>0</td>\n",
              "      <td>0</td>\n",
              "      <td>0</td>\n",
              "      <td>0</td>\n",
              "      <td>0</td>\n",
              "      <td>0</td>\n",
              "      <td>0</td>\n",
              "      <td>0</td>\n",
              "      <td>1</td>\n",
              "      <td>0</td>\n",
              "      <td>0</td>\n",
              "      <td>0</td>\n",
              "      <td>0</td>\n",
              "      <td>0</td>\n",
              "      <td>0</td>\n",
              "      <td>0</td>\n",
              "      <td>0</td>\n",
              "      <td>0</td>\n",
              "      <td>0</td>\n",
              "      <td>0</td>\n",
              "      <td>...</td>\n",
              "      <td>0</td>\n",
              "      <td>0</td>\n",
              "      <td>0</td>\n",
              "      <td>0</td>\n",
              "      <td>0</td>\n",
              "      <td>0</td>\n",
              "      <td>0</td>\n",
              "      <td>0</td>\n",
              "      <td>0</td>\n",
              "      <td>0</td>\n",
              "      <td>0</td>\n",
              "      <td>0</td>\n",
              "      <td>0</td>\n",
              "      <td>0</td>\n",
              "      <td>0</td>\n",
              "      <td>0</td>\n",
              "      <td>1</td>\n",
              "      <td>0</td>\n",
              "      <td>0</td>\n",
              "      <td>0</td>\n",
              "      <td>0</td>\n",
              "      <td>0</td>\n",
              "      <td>0</td>\n",
              "      <td>1</td>\n",
              "      <td>0</td>\n",
              "      <td>1</td>\n",
              "      <td>0</td>\n",
              "      <td>0</td>\n",
              "      <td>0</td>\n",
              "      <td>0</td>\n",
              "      <td>0</td>\n",
              "      <td>0</td>\n",
              "      <td>0</td>\n",
              "      <td>0</td>\n",
              "      <td>1</td>\n",
              "      <td>0</td>\n",
              "      <td>0</td>\n",
              "      <td>0</td>\n",
              "      <td>1</td>\n",
              "      <td>0</td>\n",
              "    </tr>\n",
              "  </tbody>\n",
              "</table>\n",
              "<p>5 rows × 403 columns</p>\n",
              "</div>"
            ],
            "text/plain": [
              "   satisfaction_level_10%  satisfaction_level_100%  ...  salary_low  salary_medium\n",
              "0                       0                        0  ...           1              0\n",
              "1                       0                        0  ...           0              1\n",
              "2                       0                        0  ...           0              1\n",
              "3                       0                        0  ...           1              0\n",
              "4                       0                        0  ...           1              0\n",
              "\n",
              "[5 rows x 403 columns]"
            ]
          },
          "metadata": {
            "tags": []
          }
        },
        {
          "output_type": "stream",
          "text": [
            "(10499, 403)\n",
            "(10499,)\n",
            "(4500, 403)\n",
            "(4500,)\n"
          ],
          "name": "stdout"
        }
      ]
    },
    {
      "cell_type": "markdown",
      "metadata": {
        "id": "f2KA6E3FiXN4"
      },
      "source": [
        "# **Models & Cross Validation**"
      ]
    },
    {
      "cell_type": "markdown",
      "metadata": {
        "id": "xhj9gXWIGSmo"
      },
      "source": [
        "My top one choice is decision tree model since the target varaible of the dataset is categoraical with two values."
      ]
    },
    {
      "cell_type": "markdown",
      "metadata": {
        "id": "U1GTnBH-Zb8I"
      },
      "source": [
        "**Decision Tree Model**"
      ]
    },
    {
      "cell_type": "markdown",
      "metadata": {
        "id": "mevFGMT34FXK"
      },
      "source": [
        "Decision Trees are a non-parametric supervised learning method used for classification tasks. \n",
        "The tree model used below is a classification trees because target variable takes a discrete set of values-- two categories including \"left\"(1 in the \"left\" column) or \"stay\" (0 in the \"left\" column)."
      ]
    },
    {
      "cell_type": "code",
      "metadata": {
        "colab": {
          "base_uri": "https://localhost:8080/",
          "height": 244
        },
        "id": "I_51H1Kx_q8u",
        "outputId": "9cf444a0-6ff7-4f9f-9d6f-1a45fc4f6132"
      },
      "source": [
        "# build the decision tree model\n",
        "dt = DecisionTreeClassifier(criterion='entropy', max_depth=12)\n",
        "\n",
        "# fit the decision tree model\n",
        "dt_model = dt.fit(X_train,y_train)\n",
        "\n",
        "# confusion matrix\n",
        "dt_y_test_pred = dt_model.predict(X_test)\n",
        "dt_cf = metrics.confusion_matrix(y_test, dt_y_test_pred)\n",
        "print(dt_cf)\n",
        "\n",
        "metrics.plot_confusion_matrix(dt_model, X_test, y_test)\n",
        "plt.rcParams['figure.figsize'] = [3, 3]\n",
        "plt.show()"
      ],
      "execution_count": 59,
      "outputs": [
        {
          "output_type": "stream",
          "text": [
            "[[3299  130]\n",
            " [ 171  900]]\n"
          ],
          "name": "stdout"
        },
        {
          "output_type": "display_data",
          "data": {
            "image/png": "[encoded data removed]",
            "text/plain": [
              "<Figure size 216x216 with 2 Axes>"
            ]
          },
          "metadata": {
            "tags": [],
            "needs_background": "light"
          }
        }
      ]
    },
    {
      "cell_type": "code",
      "metadata": {
        "colab": {
          "base_uri": "https://localhost:8080/"
        },
        "id": "H7r0o5A_1hsl",
        "outputId": "73fbad15-0c14-422d-cffa-b8ef98f60b2e"
      },
      "source": [
        "# Feature Importance top 5\n",
        "dt_importances = dt_model.feature_importances_\n",
        "features_dt = X_train.columns\n",
        "features_dt_df = pd.DataFrame({'features': features_dt, 'importance': dt_importances})\n",
        "features_dt_df = features_dt_df.sort_values(by ='importance', ascending=False)\n",
        "print(features_dt_df.head(5))"
      ],
      "execution_count": 60,
      "outputs": [
        {
          "output_type": "stream",
          "text": [
            "                   features  importance\n",
            "379    time_spend_company_3    0.203395\n",
            "157        number_project_2    0.183717\n",
            "378    time_spend_company_2    0.133057\n",
            "0    satisfaction_level_10%    0.060493\n",
            "81    satisfaction_level_9%    0.059344\n"
          ],
          "name": "stdout"
        }
      ]
    },
    {
      "cell_type": "code",
      "metadata": {
        "colab": {
          "base_uri": "https://localhost:8080/"
        },
        "id": "8G1kHY5SinQI",
        "outputId": "81d223b9-0cd0-451a-dc9d-68eb63dea17e"
      },
      "source": [
        "# accuracy on the test partition\n",
        "print('Accuracy of decision tree on prediction is', accuracy_score(y_test, dt_y_test_pred))"
      ],
      "execution_count": 61,
      "outputs": [
        {
          "output_type": "stream",
          "text": [
            "Accuracy of decision tree on prediction is 0.9331111111111111\n"
          ],
          "name": "stdout"
        }
      ]
    },
    {
      "cell_type": "code",
      "metadata": {
        "colab": {
          "base_uri": "https://localhost:8080/"
        },
        "id": "N8yngLs-AgT9",
        "outputId": "b14103e2-1934-40eb-b87c-ea59b809abf6"
      },
      "source": [
        "# GridSearch Cross Validation (including regulation and pruning)\n",
        "parameters = {'max_depth':range(5,31)}\n",
        "clf = GridSearchCV(DecisionTreeClassifier(), parameters, n_jobs=4)\n",
        "\n",
        "# fit the decision tree model\n",
        "clf.fit(X_train,y_train)\n",
        "\n",
        "# list the best score and the best parameter\n",
        "print(\"The mean cross-validated score of the best_estimator:\", clf.best_score_)\n",
        "print(\"The parameter setting that gave the best results on the hold out data:\",clf.best_params_)"
      ],
      "execution_count": 62,
      "outputs": [
        {
          "output_type": "stream",
          "text": [
            "The mean cross-validated score of the best_estimator: 0.9525672542480546\n",
            "The parameter setting that gave the best results on the hold out data: {'max_depth': 28}\n"
          ],
          "name": "stdout"
        }
      ]
    },
    {
      "cell_type": "markdown",
      "metadata": {
        "id": "HyjcPfLFHFom"
      },
      "source": [
        "**Random Forest Model**"
      ]
    },
    {
      "cell_type": "markdown",
      "metadata": {
        "id": "B-xeDcEVNxgj"
      },
      "source": [
        "Random forest model can be used for both regression and classification tasks, and it's easy to view the relative importance it assigns to the input features. It is also a very handy algorithm because the default hyperparameters it uses often produce a good prediction result."
      ]
    },
    {
      "cell_type": "code",
      "metadata": {
        "colab": {
          "base_uri": "https://localhost:8080/",
          "height": 261
        },
        "id": "ep5-mbFMHQLb",
        "outputId": "fd714f0c-1997-4404-b77b-929019d333b9"
      },
      "source": [
        "# build a random forest model \n",
        "ranforest_model = RandomForestClassifier(n_estimators=100, max_features=7, random_state=42)\n",
        "ranforest_model.fit(X_train, y_train)\n",
        "\n",
        "# prediction\n",
        "ranforest_predict = ranforest_model.predict(X_test)\n",
        "ranforest_accu = accuracy_score(y_test, ranforest_predict)\n",
        "\n",
        "# the accuracy\n",
        "print('Accuracy of the Random Forest model is', ranforest_accu)\n",
        "\n",
        "# confusion matrix\n",
        "ranforest_confusion = metrics.confusion_matrix(y_test, ranforest_predict)\n",
        "print(ranforest_confusion)\n",
        "metrics.plot_confusion_matrix(ranforest_model, X_test, y_test)\n",
        "plt.rcParams['figure.figsize'] = [3, 3]\n",
        "plt.show()"
      ],
      "execution_count": 63,
      "outputs": [
        {
          "output_type": "stream",
          "text": [
            "Accuracy of the Random Forest model is 0.9802222222222222\n",
            "[[3394   35]\n",
            " [  54 1017]]\n"
          ],
          "name": "stdout"
        },
        {
          "output_type": "display_data",
          "data": {
            "image/png": "[encoded data removed]",
            "text/plain": [
              "<Figure size 216x216 with 2 Axes>"
            ]
          },
          "metadata": {
            "tags": [],
            "needs_background": "light"
          }
        }
      ]
    },
    {
      "cell_type": "code",
      "metadata": {
        "colab": {
          "base_uri": "https://localhost:8080/"
        },
        "id": "wb2p3w7vNH6M",
        "outputId": "eff0fecb-3b92-40e2-a96f-63d2db7c38aa"
      },
      "source": [
        "# important features\n",
        "ranforest_importances = ranforest_model.feature_importances_\n",
        "features_ranforest = X_train.columns\n",
        "features_ranforest_df = pd.DataFrame({'features': features_ranforest, 'importance': ranforest_importances})\n",
        "features_ranforest_df = features_ranforest_df.sort_values(by ='importance', ascending=False)\n",
        "print(features_ranforest_df.head(5))"
      ],
      "execution_count": 64,
      "outputs": [
        {
          "output_type": "stream",
          "text": [
            "                   features  importance\n",
            "157        number_project_2    0.093093\n",
            "381    time_spend_company_5    0.050684\n",
            "158        number_project_3    0.040622\n",
            "0    satisfaction_level_10%    0.033231\n",
            "2    satisfaction_level_11%    0.031731\n"
          ],
          "name": "stdout"
        }
      ]
    },
    {
      "cell_type": "code",
      "metadata": {
        "id": "Bg7Lt_119uLL"
      },
      "source": [
        "# Gridsearch cross validation\n",
        "param_grid = {\n",
        "    'bootstrap': [True],\n",
        "    'max_depth': [80, 90, 100, 110],\n",
        "    'max_features': [2, 3],\n",
        "    'min_samples_leaf': [3, 4, 5],\n",
        "    'min_samples_split': [8, 10, 12],\n",
        "    'n_estimators': [100, 200, 300, 1000]\n",
        "}\n",
        "\n",
        "# a based model\n",
        "rf = RandomForestClassifier()\n",
        "\n",
        "# Instantiate the grid search model\n",
        "rf_grid_search = GridSearchCV(estimator = rf, param_grid = param_grid, \n",
        "                          cv = 3, n_jobs = -1, verbose = 2)\n",
        "\n",
        "# Fit the grid search to the data\n",
        "rf_grid_search.fit(train_features, train_labels)\n",
        "\n",
        "# the best parameters\n",
        "print(rf_grid_search.best_params_)\n",
        "\n",
        "# grid accuracy\n",
        "rf_best_grid = grid_search.best_estimator_\n",
        "rf_grid_accuracy = evaluate(rf_best_grid, test_features, test_labels)\n",
        "print('The accuracy is', rf_grid_accuracy)"
      ],
      "execution_count": null,
      "outputs": []
    },
    {
      "cell_type": "markdown",
      "metadata": {
        "id": "CP87X9Gbm1p5"
      },
      "source": [
        "It takes very long to finish running the code of the cross validation on random forest. So I dig into the reasons behind it and find that because there are multiple bagging in process of training random forest, which makes the process of cross validation on the model extremely complicated. \n",
        "**The multiple bagging in process of training random forest already prevents over-fitting, so that cross-validation is actually not necessary when using random forest. **\n",
        "However, I will leave the code for cross-validation above just to show that if there has to have a cross-validation, I know what to do. "
      ]
    },
    {
      "cell_type": "markdown",
      "metadata": {
        "id": "yuMLZVY2DI2z"
      },
      "source": [
        "**Logistic Regression Model**"
      ]
    },
    {
      "cell_type": "markdown",
      "metadata": {
        "id": "oz_o0kV6MYJo"
      },
      "source": [
        "Logistic regression model can also be used is used to examine the association of categorical independent variable. "
      ]
    },
    {
      "cell_type": "code",
      "metadata": {
        "colab": {
          "base_uri": "https://localhost:8080/",
          "height": 261
        },
        "id": "KptBMBPimjTQ",
        "outputId": "9d97775c-dae1-45b3-bb88-0044702b5c61"
      },
      "source": [
        "# fit the logistic regression\n",
        "model_logistic = LogisticRegression()\n",
        "model_logistic.fit(X_train, y_train)\n",
        "\n",
        "# predict the outcomes for the test set\n",
        "y_pred = model_logistic.predict(X_test)\n",
        "\n",
        "# display the accuracy of your predictions for survivability\n",
        "print(\"The accuracy of logistic regression model is\", metrics.accuracy_score(y_test, y_pred))\n",
        "\n",
        "# confusion matrix\n",
        "logistic_confusion = metrics.confusion_matrix(y_test, y_pred)\n",
        "print(logistic_confusion)\n",
        "metrics.plot_confusion_matrix(model_logistic, X_test, y_test)\n",
        "plt.rcParams['figure.figsize'] = [3, 3]\n",
        "plt.show()"
      ],
      "execution_count": 65,
      "outputs": [
        {
          "output_type": "stream",
          "text": [
            "The accuracy of logistic regression model is 0.9566666666666667\n",
            "[[3331   98]\n",
            " [  97  974]]\n"
          ],
          "name": "stdout"
        },
        {
          "output_type": "display_data",
          "data": {
            "image/png": "[encoded data removed]",
            "text/plain": [
              "<Figure size 216x216 with 2 Axes>"
            ]
          },
          "metadata": {
            "tags": [],
            "needs_background": "light"
          }
        }
      ]
    },
    {
      "cell_type": "code",
      "metadata": {
        "colab": {
          "base_uri": "https://localhost:8080/"
        },
        "id": "VLLW0z9HCr2E",
        "outputId": "f56d0f56-f89e-4680-9a17-7123c2aa9b10"
      },
      "source": [
        "# Cross Validation\n",
        "# define models and parameters\n",
        "logistic_model = LogisticRegression()\n",
        "solvers = ['newton-cg', 'lbfgs', 'liblinear']\n",
        "penalty = ['l2']\n",
        "c_values = [100, 10, 1.0, 0.1, 0.01]\n",
        "# define grid search\n",
        "grid = dict(solver=solvers,penalty=penalty,C=c_values)\n",
        "cv = RepeatedStratifiedKFold(n_splits=10, n_repeats=3, random_state=1)\n",
        "grid_search = GridSearchCV(estimator=logistic_model, param_grid=grid, n_jobs=-1, cv=cv, scoring='accuracy',error_score=0)\n",
        "grid_result = grid_search.fit(X_train, y_train)\n",
        "# summarize results\n",
        "print(\"Best: %f using %s\" % (grid_result.best_score_, grid_result.best_params_))\n",
        "means = grid_result.cv_results_['mean_test_score']\n",
        "stds = grid_result.cv_results_['std_test_score']\n",
        "params = grid_result.cv_results_['params']\n",
        "for mean, stdev, param in zip(means, stds, params):\n",
        "    print(\"%f (%f) with: %r\" % (mean, stdev, param))"
      ],
      "execution_count": null,
      "outputs": [
        {
          "output_type": "stream",
          "text": [
            "Best: 0.962568 using {'C': 100, 'penalty': 'l2', 'solver': 'newton-cg'}\n",
            "0.962568 (0.006124) with: {'C': 100, 'penalty': 'l2', 'solver': 'newton-cg'}\n",
            "0.962346 (0.006171) with: {'C': 100, 'penalty': 'l2', 'solver': 'lbfgs'}\n",
            "0.962536 (0.006120) with: {'C': 100, 'penalty': 'l2', 'solver': 'liblinear'}\n",
            "0.961425 (0.005811) with: {'C': 10, 'penalty': 'l2', 'solver': 'newton-cg'}\n",
            "0.961552 (0.005662) with: {'C': 10, 'penalty': 'l2', 'solver': 'lbfgs'}\n",
            "0.961425 (0.005863) with: {'C': 10, 'penalty': 'l2', 'solver': 'liblinear'}\n",
            "0.958726 (0.006098) with: {'C': 1.0, 'penalty': 'l2', 'solver': 'newton-cg'}\n",
            "0.958726 (0.006098) with: {'C': 1.0, 'penalty': 'l2', 'solver': 'lbfgs'}\n",
            "0.958695 (0.006029) with: {'C': 1.0, 'penalty': 'l2', 'solver': 'liblinear'}\n",
            "0.942693 (0.007026) with: {'C': 0.1, 'penalty': 'l2', 'solver': 'newton-cg'}\n",
            "0.942693 (0.007026) with: {'C': 0.1, 'penalty': 'l2', 'solver': 'lbfgs'}\n",
            "0.942820 (0.007002) with: {'C': 0.1, 'penalty': 'l2', 'solver': 'liblinear'}\n",
            "0.902435 (0.008337) with: {'C': 0.01, 'penalty': 'l2', 'solver': 'newton-cg'}\n",
            "0.902435 (0.008337) with: {'C': 0.01, 'penalty': 'l2', 'solver': 'lbfgs'}\n",
            "0.903674 (0.009067) with: {'C': 0.01, 'penalty': 'l2', 'solver': 'liblinear'}\n"
          ],
          "name": "stdout"
        }
      ]
    },
    {
      "cell_type": "markdown",
      "metadata": {
        "id": "qN7p1J2EnPgi"
      },
      "source": [
        "# **Benchmark Models**"
      ]
    },
    {
      "cell_type": "markdown",
      "metadata": {
        "id": "vuniGhGe50xC"
      },
      "source": [
        "The DummyClassifier estimator offers a few strategies for determining the benchmark class predictions. It offers sanity checks, to see if models perform better than naive baselines."
      ]
    },
    {
      "cell_type": "markdown",
      "metadata": {
        "id": "wnw8zrZYxI_i"
      },
      "source": [
        "\"Constant\" Strategy"
      ]
    },
    {
      "cell_type": "code",
      "metadata": {
        "colab": {
          "base_uri": "https://localhost:8080/"
        },
        "id": "MEmBOIQVnPJw",
        "outputId": "8cfa476d-b36e-4c4b-8dbf-79740c5c9289"
      },
      "source": [
        "constant_clf = DummyClassifier(strategy='constant', constant=1)\n",
        "constant_clf.fit(X_train, y_train)\n",
        "constant_y_pred = constant_clf.predict(X_test)\n",
        "constant_clf_accu = accuracy_score(y_test, constant_y_pred)\n",
        "print(\"The accuracy score of constant strategy is\", constant_clf_accu)"
      ],
      "execution_count": 44,
      "outputs": [
        {
          "output_type": "stream",
          "text": [
            "The accuracy score is 0.238\n"
          ],
          "name": "stdout"
        }
      ]
    },
    {
      "cell_type": "markdown",
      "metadata": {
        "id": "bhv6LZjyxwJT"
      },
      "source": [
        "\"Uniform\" Strategy"
      ]
    },
    {
      "cell_type": "code",
      "metadata": {
        "colab": {
          "base_uri": "https://localhost:8080/"
        },
        "id": "gLOvLSbLx2Vu",
        "outputId": "83c9976c-0659-422a-b057-60089a6c9ac1"
      },
      "source": [
        "uni_clf = DummyClassifier(strategy='uniform', constant=1)\n",
        "uni_clf.fit(X_train, y_train)\n",
        "uni_y_pred = uni_clf.predict(X_test)\n",
        "uni_clf_accu = accuracy_score(y_test, uni_y_pred)\n",
        "print(\"The accuracy score of uniform strategy is\", uni_clf_accu)"
      ],
      "execution_count": 45,
      "outputs": [
        {
          "output_type": "stream",
          "text": [
            "The accuracy score is 0.49422222222222223\n"
          ],
          "name": "stdout"
        }
      ]
    },
    {
      "cell_type": "markdown",
      "metadata": {
        "id": "tHEqaQrLyUnL"
      },
      "source": [
        "\"Stratified\" Strategy"
      ]
    },
    {
      "cell_type": "code",
      "metadata": {
        "colab": {
          "base_uri": "https://localhost:8080/"
        },
        "id": "693r1NY5ydtz",
        "outputId": "6ed2b23b-d5e6-4582-e457-264464b4fb99"
      },
      "source": [
        "stra_clf = DummyClassifier(strategy='stratified', constant=1)\n",
        "stra_clf.fit(X_train, y_train)\n",
        "stra_y_pred = stra_clf.predict(X_test)\n",
        "stra_clf_accu = accuracy_score(y_test, stra_y_pred)\n",
        "print(\"The accuracy score of stratified strategy is\", stra_clf_accu)"
      ],
      "execution_count": 46,
      "outputs": [
        {
          "output_type": "stream",
          "text": [
            "The accuracy score of stratified strategy is 0.6326666666666667\n"
          ],
          "name": "stdout"
        }
      ]
    },
    {
      "cell_type": "markdown",
      "metadata": {
        "id": "iK5LAz2Eyv9v"
      },
      "source": [
        "\"Most_frequent\" Strategy"
      ]
    },
    {
      "cell_type": "code",
      "metadata": {
        "colab": {
          "base_uri": "https://localhost:8080/"
        },
        "id": "umHEdn7Ry4DY",
        "outputId": "f6c5ae3f-edec-4d38-ae91-90b8f828f3d1"
      },
      "source": [
        "fre_clf = DummyClassifier(strategy='stratified', constant=1)\n",
        "fre_clf.fit(X_train, y_train)\n",
        "fre_y_pred = fre_clf.predict(X_test)\n",
        "fre_clf_accu = accuracy_score(y_test, fre_y_pred)\n",
        "print(\"The accuracy score of most-frequent strategy is\", fre_clf_accu)"
      ],
      "execution_count": 47,
      "outputs": [
        {
          "output_type": "stream",
          "text": [
            "The accuracy score of most-frequent strategy is 0.6391111111111111\n"
          ],
          "name": "stdout"
        }
      ]
    },
    {
      "cell_type": "markdown",
      "metadata": {
        "id": "nEa4dq4SzEBn"
      },
      "source": [
        "# **Comparison & Conclusion**"
      ]
    },
    {
      "cell_type": "code",
      "metadata": {
        "colab": {
          "base_uri": "https://localhost:8080/"
        },
        "id": "uE5eW0QKzK2s",
        "outputId": "47be2194-afa4-4a50-9d53-c32765dfa536"
      },
      "source": [
        "print('The accuracies:')\n",
        "print('Accuracy of Decision Tree model on prediction is 0.9328888888888889')\n",
        "print('Accuracy of the Random Forest model is 0.9802222222222222')\n",
        "print('Accuracy of Logistic Regression model is 0.9566666666666667')\n",
        "\n",
        "print('Based on the result, we can tell all the models have outperformed the benchmark.')\n",
        "print('Since random forest is the best model out of these three models with the highest the accuracy, I will choose random forest as my final model')"
      ],
      "execution_count": 1,
      "outputs": [
        {
          "output_type": "stream",
          "text": [
            "The accuracies:\n",
            "Accuracy of Decision Tree model on prediction is 0.9328888888888889\n",
            "Accuracy of the Random Forest model is 0.9802222222222222\n",
            "Accuracy of Logistic Regression model is 0.9566666666666667\n",
            "Based on the result, we can tell all the models have outperformed the benchmark.\n",
            "Since random forest is the best model out of these three models with the highest the accuracy, I will choose random forest as my final model\n"
          ],
          "name": "stdout"
        }
      ]
    }
  ]
}